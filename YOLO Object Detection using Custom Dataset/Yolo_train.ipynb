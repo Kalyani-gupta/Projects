{
  "nbformat": 4,
  "nbformat_minor": 0,
  "metadata": {
    "colab": {
      "name": "Yolo---train.ipynb",
      "provenance": [],
      "collapsed_sections": []
    },
    "kernelspec": {
      "name": "python3",
      "display_name": "Python 3"
    },
    "accelerator": "GPU"
  },
  "cells": [
    {
      "cell_type": "code",
      "metadata": {
        "id": "9FxXlYCkGLuG"
      },
      "source": [
        "#unzip contents of darknet \n",
        "!unzip /content/drive/MyDrive/darknet.zip"
      ],
      "execution_count": null,
      "outputs": []
    },
    {
      "cell_type": "code",
      "metadata": {
        "id": "RvJXqIvFGeLc"
      },
      "source": [
        "#change directory\n",
        "%cd /content/content/content/darknet"
      ],
      "execution_count": null,
      "outputs": []
    },
    {
      "cell_type": "code",
      "metadata": {
        "id": "EiinWOnvGpZT"
      },
      "source": [
        "!make"
      ],
      "execution_count": null,
      "outputs": []
    },
    {
      "cell_type": "code",
      "metadata": {
        "id": "_vlZ1T3oG21p"
      },
      "source": [
        "!chmod +x ./darknet"
      ],
      "execution_count": null,
      "outputs": []
    },
    {
      "cell_type": "code",
      "metadata": {
        "id": "M8vgrRWyIS2K"
      },
      "source": [
        "#create a backup folder in drive and then create a link between local backup and drive backup so that weights are saved even if colab runtime is over\n",
        "!rm /content/content/content/darknet/backup -r\n",
        "!ln -s /content/drive/MyDrive/backup /content/content/content/darknet"
      ],
      "execution_count": null,
      "outputs": []
    },
    {
      "cell_type": "code",
      "metadata": {
        "id": "IR_hf9sfIcGO"
      },
      "source": [
        "#training yolo\n",
        "!./darknet detector train data/yolo.data cfg/yolov3_custom_train.cfg darknet53.conv.74"
      ],
      "execution_count": null,
      "outputs": []
    },
    {
      "cell_type": "code",
      "metadata": {
        "id": "IkpP4apEpCls"
      },
      "source": [
        "#function to display image\n",
        "def imShow(path):\n",
        "  import cv2\n",
        "  import matplotlib.pyplot as plt\n",
        "  %matplotlib inline\n",
        "\n",
        "  image = cv2.imread(path)\n",
        "  height, width = image.shape[:2]\n",
        "  resized_image = cv2.resize(image,(3*width, 3*height), interpolation = cv2.INTER_CUBIC)\n",
        "\n",
        "  fig = plt.gcf()\n",
        "  fig.set_size_inches(18, 10)\n",
        "  plt.axis(\"off\")\n",
        "  plt.imshow(cv2.cvtColor(resized_image, cv2.COLOR_BGR2RGB))\n",
        "  plt.show()"
      ],
      "execution_count": null,
      "outputs": []
    },
    {
      "cell_type": "code",
      "metadata": {
        "id": "vqN0Qt2fpCve"
      },
      "source": [
        "#testing yolo\n",
        "!./darknet detector test data/yolo.data cfg/yolov3_custom_train.cfg backup/yolov3_custom_train_12000.weights data/labels/n02093991_3330.jpg -thresh 0.6\n",
        "imShow('predictions.jpg')"
      ],
      "execution_count": null,
      "outputs": []
    }
  ]
}